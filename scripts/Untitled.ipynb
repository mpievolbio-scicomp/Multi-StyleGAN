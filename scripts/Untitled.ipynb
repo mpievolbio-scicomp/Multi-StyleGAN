{
 "cells": [
  {
   "cell_type": "code",
   "execution_count": 38,
   "metadata": {},
   "outputs": [],
   "source": [
    "import pandas\n",
    "import numpy"
   ]
  },
  {
   "cell_type": "code",
   "execution_count": 39,
   "metadata": {},
   "outputs": [],
   "source": [
    "df = pandas.read_csv(\"../TFLM_dataset/metadata.csv\")"
   ]
  },
  {
   "cell_type": "code",
   "execution_count": 40,
   "metadata": {},
   "outputs": [
    {
     "data": {
      "text/html": [
       "<div>\n",
       "<style scoped>\n",
       "    .dataframe tbody tr th:only-of-type {\n",
       "        vertical-align: middle;\n",
       "    }\n",
       "\n",
       "    .dataframe tbody tr th {\n",
       "        vertical-align: top;\n",
       "    }\n",
       "\n",
       "    .dataframe thead th {\n",
       "        text-align: right;\n",
       "    }\n",
       "</style>\n",
       "<table border=\"1\" class=\"dataframe\">\n",
       "  <thead>\n",
       "    <tr style=\"text-align: right;\">\n",
       "      <th></th>\n",
       "      <th>Dataset Name</th>\n",
       "      <th>Image Name</th>\n",
       "      <th>Position</th>\n",
       "      <th>Channel</th>\n",
       "      <th>i</th>\n",
       "      <th>trap</th>\n",
       "    </tr>\n",
       "  </thead>\n",
       "  <tbody>\n",
       "    <tr>\n",
       "      <th>0</th>\n",
       "      <td>Pos000000000</td>\n",
       "      <td>img_000000000_01-BF0_000_trap_019.tif</td>\n",
       "      <td>0</td>\n",
       "      <td>01-BF0</td>\n",
       "      <td>0</td>\n",
       "      <td>19</td>\n",
       "    </tr>\n",
       "    <tr>\n",
       "      <th>1</th>\n",
       "      <td>Pos000000000</td>\n",
       "      <td>img_000000000_01-BF0_000_trap_022.tif</td>\n",
       "      <td>0</td>\n",
       "      <td>01-BF0</td>\n",
       "      <td>0</td>\n",
       "      <td>22</td>\n",
       "    </tr>\n",
       "    <tr>\n",
       "      <th>2</th>\n",
       "      <td>Pos000000000</td>\n",
       "      <td>img_000000000_01-BF0_000_trap_024.tif</td>\n",
       "      <td>0</td>\n",
       "      <td>01-BF0</td>\n",
       "      <td>0</td>\n",
       "      <td>24</td>\n",
       "    </tr>\n",
       "    <tr>\n",
       "      <th>3</th>\n",
       "      <td>Pos000000000</td>\n",
       "      <td>img_000000000_01-BF0_000_trap_027.tif</td>\n",
       "      <td>0</td>\n",
       "      <td>01-BF0</td>\n",
       "      <td>0</td>\n",
       "      <td>27</td>\n",
       "    </tr>\n",
       "    <tr>\n",
       "      <th>4</th>\n",
       "      <td>Pos000000000</td>\n",
       "      <td>img_000000000_01-BF0_000_trap_028.tif</td>\n",
       "      <td>0</td>\n",
       "      <td>01-BF0</td>\n",
       "      <td>0</td>\n",
       "      <td>28</td>\n",
       "    </tr>\n",
       "    <tr>\n",
       "      <th>...</th>\n",
       "      <td>...</td>\n",
       "      <td>...</td>\n",
       "      <td>...</td>\n",
       "      <td>...</td>\n",
       "      <td>...</td>\n",
       "      <td>...</td>\n",
       "    </tr>\n",
       "    <tr>\n",
       "      <th>29083</th>\n",
       "      <td>Pos000000011</td>\n",
       "      <td>img_000000011_04-RFPdouble_000_trap_035.tif</td>\n",
       "      <td>11</td>\n",
       "      <td>04-RFPdouble</td>\n",
       "      <td>0</td>\n",
       "      <td>35</td>\n",
       "    </tr>\n",
       "    <tr>\n",
       "      <th>29084</th>\n",
       "      <td>Pos000000011</td>\n",
       "      <td>img_000000011_04-RFPdouble_001_trap_016.tif</td>\n",
       "      <td>11</td>\n",
       "      <td>04-RFPdouble</td>\n",
       "      <td>1</td>\n",
       "      <td>16</td>\n",
       "    </tr>\n",
       "    <tr>\n",
       "      <th>29085</th>\n",
       "      <td>Pos000000011</td>\n",
       "      <td>img_000000011_04-RFPdouble_001_trap_035.tif</td>\n",
       "      <td>11</td>\n",
       "      <td>04-RFPdouble</td>\n",
       "      <td>1</td>\n",
       "      <td>35</td>\n",
       "    </tr>\n",
       "    <tr>\n",
       "      <th>29086</th>\n",
       "      <td>Pos000000011</td>\n",
       "      <td>img_000000011_04-RFPdouble_002_trap_016.tif</td>\n",
       "      <td>11</td>\n",
       "      <td>04-RFPdouble</td>\n",
       "      <td>2</td>\n",
       "      <td>16</td>\n",
       "    </tr>\n",
       "    <tr>\n",
       "      <th>29087</th>\n",
       "      <td>Pos000000011</td>\n",
       "      <td>img_000000011_04-RFPdouble_002_trap_035.tif</td>\n",
       "      <td>11</td>\n",
       "      <td>04-RFPdouble</td>\n",
       "      <td>2</td>\n",
       "      <td>35</td>\n",
       "    </tr>\n",
       "  </tbody>\n",
       "</table>\n",
       "<p>29088 rows × 6 columns</p>\n",
       "</div>"
      ],
      "text/plain": [
       "       Dataset Name                                   Image Name  Position  \\\n",
       "0      Pos000000000        img_000000000_01-BF0_000_trap_019.tif         0   \n",
       "1      Pos000000000        img_000000000_01-BF0_000_trap_022.tif         0   \n",
       "2      Pos000000000        img_000000000_01-BF0_000_trap_024.tif         0   \n",
       "3      Pos000000000        img_000000000_01-BF0_000_trap_027.tif         0   \n",
       "4      Pos000000000        img_000000000_01-BF0_000_trap_028.tif         0   \n",
       "...             ...                                          ...       ...   \n",
       "29083  Pos000000011  img_000000011_04-RFPdouble_000_trap_035.tif        11   \n",
       "29084  Pos000000011  img_000000011_04-RFPdouble_001_trap_016.tif        11   \n",
       "29085  Pos000000011  img_000000011_04-RFPdouble_001_trap_035.tif        11   \n",
       "29086  Pos000000011  img_000000011_04-RFPdouble_002_trap_016.tif        11   \n",
       "29087  Pos000000011  img_000000011_04-RFPdouble_002_trap_035.tif        11   \n",
       "\n",
       "            Channel  i  trap  \n",
       "0            01-BF0  0    19  \n",
       "1            01-BF0  0    22  \n",
       "2            01-BF0  0    24  \n",
       "3            01-BF0  0    27  \n",
       "4            01-BF0  0    28  \n",
       "...             ... ..   ...  \n",
       "29083  04-RFPdouble  0    35  \n",
       "29084  04-RFPdouble  1    16  \n",
       "29085  04-RFPdouble  1    35  \n",
       "29086  04-RFPdouble  2    16  \n",
       "29087  04-RFPdouble  2    35  \n",
       "\n",
       "[29088 rows x 6 columns]"
      ]
     },
     "execution_count": 40,
     "metadata": {},
     "output_type": "execute_result"
    }
   ],
   "source": [
    "df"
   ]
  },
  {
   "cell_type": "code",
   "execution_count": 41,
   "metadata": {},
   "outputs": [
    {
     "name": "stdout",
     "output_type": "stream",
     "text": [
      "<class 'pandas.core.frame.DataFrame'>\n",
      "RangeIndex: 29088 entries, 0 to 29087\n",
      "Data columns (total 6 columns):\n",
      " #   Column        Non-Null Count  Dtype \n",
      "---  ------        --------------  ----- \n",
      " 0   Dataset Name  29088 non-null  object\n",
      " 1    Image Name   29088 non-null  object\n",
      " 2   Position      29088 non-null  int64 \n",
      " 3   Channel       29088 non-null  object\n",
      " 4   i             29088 non-null  int64 \n",
      " 5   trap          29088 non-null  int64 \n",
      "dtypes: int64(3), object(3)\n",
      "memory usage: 1.3+ MB\n"
     ]
    }
   ],
   "source": [
    "df.info()"
   ]
  },
  {
   "cell_type": "code",
   "execution_count": 42,
   "metadata": {},
   "outputs": [],
   "source": [
    "organism = 'Oppidum hanseaticum'"
   ]
  },
  {
   "cell_type": "code",
   "execution_count": 43,
   "metadata": {},
   "outputs": [],
   "source": [
    "genotyperef = 'NCBI_Taxon'\n",
    "ref_acc = 'NCBI_0000'\n",
    "strains = ['HGW', 'HRO', 'HH', 'HL', 'HST', 'HB', 'HWI', 'RDG', 'CPH', 'STH', 'LG', 'D', 'K']\n",
    "genotypes = [a+b for a in ['D', 'I', 'R', 'X'] for b in [str(i) for i in range(4)]]\n",
    "imagetypes = ['raw', 'derived']\n",
    "investigations = ['I1', 'I2', 'I3']\n",
    "studies = ['S' + str(s) for s in range(3)]\n",
    "assays = ['A' + str(s) for s in range(10)]"
   ]
  },
  {
   "cell_type": "code",
   "execution_count": 44,
   "metadata": {},
   "outputs": [],
   "source": [
    "import random"
   ]
  },
  {
   "cell_type": "code",
   "execution_count": 45,
   "metadata": {},
   "outputs": [],
   "source": [
    "df['Organism'] = organism\n",
    "df['Term Source'] = genotyperef\n",
    "df['Term Accession'] = ref_acc\n",
    "df['Strain'] = random.choices(strains, k=len(df))\n",
    "df['Genotype'] = random.choices(genotypes, k=len(df))\n",
    "df['Imagetype'] = random.choices(imagetypes, k=len(df))\n",
    "df['Investigation'] = random.choices(investigations, k=len(df))\n",
    "df['Study'] = random.choices(studies, k=len(df))\n",
    "df['Assay'] = random.choices(assays, k=len(df))"
   ]
  },
  {
   "cell_type": "code",
   "execution_count": 46,
   "metadata": {},
   "outputs": [
    {
     "data": {
      "text/html": [
       "<div>\n",
       "<style scoped>\n",
       "    .dataframe tbody tr th:only-of-type {\n",
       "        vertical-align: middle;\n",
       "    }\n",
       "\n",
       "    .dataframe tbody tr th {\n",
       "        vertical-align: top;\n",
       "    }\n",
       "\n",
       "    .dataframe thead th {\n",
       "        text-align: right;\n",
       "    }\n",
       "</style>\n",
       "<table border=\"1\" class=\"dataframe\">\n",
       "  <thead>\n",
       "    <tr style=\"text-align: right;\">\n",
       "      <th></th>\n",
       "      <th>Dataset Name</th>\n",
       "      <th>Image Name</th>\n",
       "      <th>Position</th>\n",
       "      <th>Channel</th>\n",
       "      <th>i</th>\n",
       "      <th>trap</th>\n",
       "      <th>Organism</th>\n",
       "      <th>Term Source</th>\n",
       "      <th>Term Accession</th>\n",
       "      <th>Strain</th>\n",
       "      <th>Genotype</th>\n",
       "      <th>Imagetype</th>\n",
       "      <th>Investigation</th>\n",
       "      <th>Study</th>\n",
       "      <th>Assay</th>\n",
       "    </tr>\n",
       "  </thead>\n",
       "  <tbody>\n",
       "    <tr>\n",
       "      <th>0</th>\n",
       "      <td>Pos000000000</td>\n",
       "      <td>img_000000000_01-BF0_000_trap_019.tif</td>\n",
       "      <td>0</td>\n",
       "      <td>01-BF0</td>\n",
       "      <td>0</td>\n",
       "      <td>19</td>\n",
       "      <td>Oppidum hanseaticum</td>\n",
       "      <td>NCBI_Taxon</td>\n",
       "      <td>NCBI_0000</td>\n",
       "      <td>HWI</td>\n",
       "      <td>I0</td>\n",
       "      <td>raw</td>\n",
       "      <td>I2</td>\n",
       "      <td>S2</td>\n",
       "      <td>A2</td>\n",
       "    </tr>\n",
       "    <tr>\n",
       "      <th>1</th>\n",
       "      <td>Pos000000000</td>\n",
       "      <td>img_000000000_01-BF0_000_trap_022.tif</td>\n",
       "      <td>0</td>\n",
       "      <td>01-BF0</td>\n",
       "      <td>0</td>\n",
       "      <td>22</td>\n",
       "      <td>Oppidum hanseaticum</td>\n",
       "      <td>NCBI_Taxon</td>\n",
       "      <td>NCBI_0000</td>\n",
       "      <td>HB</td>\n",
       "      <td>R1</td>\n",
       "      <td>derived</td>\n",
       "      <td>I1</td>\n",
       "      <td>S2</td>\n",
       "      <td>A9</td>\n",
       "    </tr>\n",
       "    <tr>\n",
       "      <th>2</th>\n",
       "      <td>Pos000000000</td>\n",
       "      <td>img_000000000_01-BF0_000_trap_024.tif</td>\n",
       "      <td>0</td>\n",
       "      <td>01-BF0</td>\n",
       "      <td>0</td>\n",
       "      <td>24</td>\n",
       "      <td>Oppidum hanseaticum</td>\n",
       "      <td>NCBI_Taxon</td>\n",
       "      <td>NCBI_0000</td>\n",
       "      <td>LG</td>\n",
       "      <td>D2</td>\n",
       "      <td>derived</td>\n",
       "      <td>I1</td>\n",
       "      <td>S1</td>\n",
       "      <td>A5</td>\n",
       "    </tr>\n",
       "    <tr>\n",
       "      <th>3</th>\n",
       "      <td>Pos000000000</td>\n",
       "      <td>img_000000000_01-BF0_000_trap_027.tif</td>\n",
       "      <td>0</td>\n",
       "      <td>01-BF0</td>\n",
       "      <td>0</td>\n",
       "      <td>27</td>\n",
       "      <td>Oppidum hanseaticum</td>\n",
       "      <td>NCBI_Taxon</td>\n",
       "      <td>NCBI_0000</td>\n",
       "      <td>RDG</td>\n",
       "      <td>D3</td>\n",
       "      <td>derived</td>\n",
       "      <td>I1</td>\n",
       "      <td>S2</td>\n",
       "      <td>A3</td>\n",
       "    </tr>\n",
       "    <tr>\n",
       "      <th>4</th>\n",
       "      <td>Pos000000000</td>\n",
       "      <td>img_000000000_01-BF0_000_trap_028.tif</td>\n",
       "      <td>0</td>\n",
       "      <td>01-BF0</td>\n",
       "      <td>0</td>\n",
       "      <td>28</td>\n",
       "      <td>Oppidum hanseaticum</td>\n",
       "      <td>NCBI_Taxon</td>\n",
       "      <td>NCBI_0000</td>\n",
       "      <td>LG</td>\n",
       "      <td>X2</td>\n",
       "      <td>derived</td>\n",
       "      <td>I1</td>\n",
       "      <td>S0</td>\n",
       "      <td>A6</td>\n",
       "    </tr>\n",
       "  </tbody>\n",
       "</table>\n",
       "</div>"
      ],
      "text/plain": [
       "   Dataset Name                             Image Name  Position Channel  i  \\\n",
       "0  Pos000000000  img_000000000_01-BF0_000_trap_019.tif         0  01-BF0  0   \n",
       "1  Pos000000000  img_000000000_01-BF0_000_trap_022.tif         0  01-BF0  0   \n",
       "2  Pos000000000  img_000000000_01-BF0_000_trap_024.tif         0  01-BF0  0   \n",
       "3  Pos000000000  img_000000000_01-BF0_000_trap_027.tif         0  01-BF0  0   \n",
       "4  Pos000000000  img_000000000_01-BF0_000_trap_028.tif         0  01-BF0  0   \n",
       "\n",
       "   trap             Organism Term Source Term Accession Strain Genotype  \\\n",
       "0    19  Oppidum hanseaticum  NCBI_Taxon      NCBI_0000    HWI       I0   \n",
       "1    22  Oppidum hanseaticum  NCBI_Taxon      NCBI_0000     HB       R1   \n",
       "2    24  Oppidum hanseaticum  NCBI_Taxon      NCBI_0000     LG       D2   \n",
       "3    27  Oppidum hanseaticum  NCBI_Taxon      NCBI_0000    RDG       D3   \n",
       "4    28  Oppidum hanseaticum  NCBI_Taxon      NCBI_0000     LG       X2   \n",
       "\n",
       "  Imagetype Investigation Study Assay  \n",
       "0       raw            I2    S2    A2  \n",
       "1   derived            I1    S2    A9  \n",
       "2   derived            I1    S1    A5  \n",
       "3   derived            I1    S2    A3  \n",
       "4   derived            I1    S0    A6  "
      ]
     },
     "execution_count": 46,
     "metadata": {},
     "output_type": "execute_result"
    }
   ],
   "source": [
    "df.head()"
   ]
  },
  {
   "cell_type": "code",
   "execution_count": 49,
   "metadata": {},
   "outputs": [],
   "source": [
    "df.columns = df.columns.str.replace(\" \", \"_\")"
   ]
  },
  {
   "cell_type": "code",
   "execution_count": 60,
   "metadata": {},
   "outputs": [],
   "source": [
    "df = df.astype('str')"
   ]
  },
  {
   "cell_type": "code",
   "execution_count": 61,
   "metadata": {},
   "outputs": [
    {
     "name": "stdout",
     "output_type": "stream",
     "text": [
      "<class 'pandas.core.frame.DataFrame'>\n",
      "RangeIndex: 29088 entries, 0 to 29087\n",
      "Data columns (total 15 columns):\n",
      " #   Column          Non-Null Count  Dtype \n",
      "---  ------          --------------  ----- \n",
      " 0   Dataset_Name    29088 non-null  object\n",
      " 1   _Image_Name     29088 non-null  object\n",
      " 2   Position        29088 non-null  object\n",
      " 3   Channel         29088 non-null  object\n",
      " 4   i               29088 non-null  object\n",
      " 5   trap            29088 non-null  object\n",
      " 6   Organism        29088 non-null  object\n",
      " 7   Term_Source     29088 non-null  object\n",
      " 8   Term_Accession  29088 non-null  object\n",
      " 9   Strain          29088 non-null  object\n",
      " 10  Genotype        29088 non-null  object\n",
      " 11  Imagetype       29088 non-null  object\n",
      " 12  Investigation   29088 non-null  object\n",
      " 13  Study           29088 non-null  object\n",
      " 14  Assay           29088 non-null  object\n",
      "dtypes: object(15)\n",
      "memory usage: 3.3+ MB\n"
     ]
    }
   ],
   "source": [
    "df.info()"
   ]
  },
  {
   "cell_type": "code",
   "execution_count": 50,
   "metadata": {},
   "outputs": [],
   "source": [
    "from omero.gateway import BlitzGateway, MapAnnotationWrapper"
   ]
  },
  {
   "cell_type": "code",
   "execution_count": 13,
   "metadata": {},
   "outputs": [],
   "source": [
    "from getpass import getpass"
   ]
  },
  {
   "cell_type": "code",
   "execution_count": 14,
   "metadata": {},
   "outputs": [
    {
     "name": "stdin",
     "output_type": "stream",
     "text": [
      " ··········\n"
     ]
    }
   ],
   "source": [
    "pw = getpass()"
   ]
  },
  {
   "cell_type": "code",
   "execution_count": 52,
   "metadata": {},
   "outputs": [],
   "source": [
    "conn = BlitzGateway('grotec', pw, host='ome.evolbio.mpg.de', secure=True )"
   ]
  },
  {
   "cell_type": "code",
   "execution_count": 53,
   "metadata": {},
   "outputs": [
    {
     "data": {
      "text/plain": [
       "True"
      ]
     },
     "execution_count": 53,
     "metadata": {},
     "output_type": "execute_result"
    }
   ],
   "source": [
    "conn.connect()"
   ]
  },
  {
   "cell_type": "code",
   "execution_count": 62,
   "metadata": {},
   "outputs": [],
   "source": [
    "annotation = MapAnnotationWrapper(conn)"
   ]
  },
  {
   "cell_type": "code",
   "execution_count": 63,
   "metadata": {},
   "outputs": [],
   "source": [
    "annotation.setNs('http://example.org')"
   ]
  },
  {
   "cell_type": "code",
   "execution_count": 64,
   "metadata": {},
   "outputs": [],
   "source": [
    "kv_pairs = list(df.iloc[0].to_dict().items())"
   ]
  },
  {
   "cell_type": "code",
   "execution_count": 65,
   "metadata": {},
   "outputs": [
    {
     "data": {
      "text/plain": [
       "[('Dataset_Name', 'Pos000000000'),\n",
       " ('_Image_Name', 'img_000000000_01-BF0_000_trap_019.tif'),\n",
       " ('Position', '0'),\n",
       " ('Channel', '01-BF0'),\n",
       " ('i', '0'),\n",
       " ('trap', '19'),\n",
       " ('Organism', 'Oppidum hanseaticum'),\n",
       " ('Term_Source', 'NCBI_Taxon'),\n",
       " ('Term_Accession', 'NCBI_0000'),\n",
       " ('Strain', 'HWI'),\n",
       " ('Genotype', 'I0'),\n",
       " ('Imagetype', 'raw'),\n",
       " ('Investigation', 'I2'),\n",
       " ('Study', 'S2'),\n",
       " ('Assay', 'A2')]"
      ]
     },
     "execution_count": 65,
     "metadata": {},
     "output_type": "execute_result"
    }
   ],
   "source": [
    "kv_pairs"
   ]
  },
  {
   "cell_type": "code",
   "execution_count": 66,
   "metadata": {},
   "outputs": [],
   "source": [
    "annotation.setValue(kv_pairs)"
   ]
  },
  {
   "cell_type": "code",
   "execution_count": 67,
   "metadata": {},
   "outputs": [],
   "source": [
    "image = conn.getObject(\"Image\",9743434)"
   ]
  },
  {
   "cell_type": "code",
   "execution_count": 69,
   "metadata": {},
   "outputs": [],
   "source": [
    "annotation.save()"
   ]
  },
  {
   "cell_type": "code",
   "execution_count": 70,
   "metadata": {},
   "outputs": [
    {
     "ename": "AttributeError",
     "evalue": "'MapAnnotationI' object has no attribute 'getProject'",
     "output_type": "error",
     "traceback": [
      "\u001b[0;31m---------------------------------------------------------------------------\u001b[0m",
      "\u001b[0;31mAttributeError\u001b[0m                            Traceback (most recent call last)",
      "\u001b[0;32m~/.conda/envs/ome/lib/python3.8/site-packages/IPython/core/formatters.py\u001b[0m in \u001b[0;36m__call__\u001b[0;34m(self, obj)\u001b[0m\n\u001b[1;32m    343\u001b[0m             \u001b[0mmethod\u001b[0m \u001b[0;34m=\u001b[0m \u001b[0mget_real_method\u001b[0m\u001b[0;34m(\u001b[0m\u001b[0mobj\u001b[0m\u001b[0;34m,\u001b[0m \u001b[0mself\u001b[0m\u001b[0;34m.\u001b[0m\u001b[0mprint_method\u001b[0m\u001b[0;34m)\u001b[0m\u001b[0;34m\u001b[0m\u001b[0;34m\u001b[0m\u001b[0m\n\u001b[1;32m    344\u001b[0m             \u001b[0;32mif\u001b[0m \u001b[0mmethod\u001b[0m \u001b[0;32mis\u001b[0m \u001b[0;32mnot\u001b[0m \u001b[0;32mNone\u001b[0m\u001b[0;34m:\u001b[0m\u001b[0;34m\u001b[0m\u001b[0;34m\u001b[0m\u001b[0m\n\u001b[0;32m--> 345\u001b[0;31m                 \u001b[0;32mreturn\u001b[0m \u001b[0mmethod\u001b[0m\u001b[0;34m(\u001b[0m\u001b[0;34m)\u001b[0m\u001b[0;34m\u001b[0m\u001b[0;34m\u001b[0m\u001b[0m\n\u001b[0m\u001b[1;32m    346\u001b[0m             \u001b[0;32mreturn\u001b[0m \u001b[0;32mNone\u001b[0m\u001b[0;34m\u001b[0m\u001b[0;34m\u001b[0m\u001b[0m\n\u001b[1;32m    347\u001b[0m         \u001b[0;32melse\u001b[0m\u001b[0;34m:\u001b[0m\u001b[0;34m\u001b[0m\u001b[0;34m\u001b[0m\u001b[0m\n",
      "\u001b[0;32m~/.conda/envs/ome/lib/python3.8/site-packages/omero/gateway/__init__.py\u001b[0m in \u001b[0;36m_repr_html_\u001b[0;34m(self)\u001b[0m\n\u001b[1;32m    251\u001b[0m         \u001b[0mIPython\u001b[0m \u001b[0mnotebook\u001b[0m \u001b[0mto\u001b[0m \u001b[0mdisplay\u001b[0m \u001b[0mthe\u001b[0m \u001b[0mobject\u001b[0m \u001b[0;32min\u001b[0m \u001b[0ma\u001b[0m \u001b[0mcell\u001b[0m\u001b[0;34m.\u001b[0m\u001b[0;34m\u001b[0m\u001b[0;34m\u001b[0m\u001b[0m\n\u001b[1;32m    252\u001b[0m         \"\"\"\n\u001b[0;32m--> 253\u001b[0;31m         \u001b[0;32mreturn\u001b[0m \u001b[0mimage_to_html\u001b[0m\u001b[0;34m(\u001b[0m\u001b[0mself\u001b[0m\u001b[0;34m)\u001b[0m\u001b[0;34m\u001b[0m\u001b[0;34m\u001b[0m\u001b[0m\n\u001b[0m\u001b[1;32m    254\u001b[0m \u001b[0;34m\u001b[0m\u001b[0m\n\u001b[1;32m    255\u001b[0m     \u001b[0;32mdef\u001b[0m \u001b[0m__eq__\u001b[0m\u001b[0;34m(\u001b[0m\u001b[0mself\u001b[0m\u001b[0;34m,\u001b[0m \u001b[0ma\u001b[0m\u001b[0;34m)\u001b[0m\u001b[0;34m:\u001b[0m\u001b[0;34m\u001b[0m\u001b[0;34m\u001b[0m\u001b[0m\n",
      "\u001b[0;32m~/.conda/envs/ome/lib/python3.8/site-packages/omero/gateway/utils.py\u001b[0m in \u001b[0;36mimage_to_html\u001b[0;34m(image)\u001b[0m\n\u001b[1;32m    269\u001b[0m         \u001b[0;34m{\u001b[0m\u001b[0mobj_html\u001b[0m\u001b[0;34m(\u001b[0m\u001b[0mimage\u001b[0m\u001b[0;34m,\u001b[0m \u001b[0;34m'Image'\u001b[0m\u001b[0;34m)\u001b[0m\u001b[0;34m}\u001b[0m\u001b[0;34m\u001b[0m\u001b[0;34m\u001b[0m\u001b[0m\n\u001b[1;32m    270\u001b[0m         \u001b[0;34m{\u001b[0m\u001b[0mobj_html\u001b[0m\u001b[0;34m(\u001b[0m\u001b[0mimage\u001b[0m\u001b[0;34m.\u001b[0m\u001b[0mgetParent\u001b[0m\u001b[0;34m(\u001b[0m\u001b[0;34m)\u001b[0m\u001b[0;34m,\u001b[0m \u001b[0;34m'Dataset'\u001b[0m\u001b[0;34m)\u001b[0m\u001b[0;34m}\u001b[0m\u001b[0;34m\u001b[0m\u001b[0;34m\u001b[0m\u001b[0m\n\u001b[0;32m--> 271\u001b[0;31m         \u001b[0;34m{\u001b[0m\u001b[0mobj_html\u001b[0m\u001b[0;34m(\u001b[0m\u001b[0mimage\u001b[0m\u001b[0;34m.\u001b[0m\u001b[0mgetProject\u001b[0m\u001b[0;34m(\u001b[0m\u001b[0;34m)\u001b[0m\u001b[0;34m,\u001b[0m \u001b[0;34m'Project'\u001b[0m\u001b[0;34m)\u001b[0m\u001b[0;34m}\u001b[0m\u001b[0;34m\u001b[0m\u001b[0;34m\u001b[0m\u001b[0m\n\u001b[0m\u001b[1;32m    272\u001b[0m     \u001b[0;34m<\u001b[0m\u001b[0;34m/\u001b[0m\u001b[0mtable\u001b[0m\u001b[0;34m>\u001b[0m\u001b[0;34m\u001b[0m\u001b[0;34m\u001b[0m\u001b[0m\n\u001b[1;32m    273\u001b[0m     \"\"\"\n",
      "\u001b[0;32m~/.conda/envs/ome/lib/python3.8/site-packages/omero/gateway/__init__.py\u001b[0m in \u001b[0;36m__getattr__\u001b[0;34m(self, attr)\u001b[0m\n\u001b[1;32m   1309\u001b[0m                             \u001b[0;32mpass\u001b[0m\u001b[0;34m\u001b[0m\u001b[0;34m\u001b[0m\u001b[0m\n\u001b[1;32m   1310\u001b[0m             \u001b[0;32mreturn\u001b[0m \u001b[0mrv\u001b[0m\u001b[0;34m\u001b[0m\u001b[0;34m\u001b[0m\u001b[0m\n\u001b[0;32m-> 1311\u001b[0;31m         raise AttributeError(\n\u001b[0m\u001b[1;32m   1312\u001b[0m             \u001b[0;34m\"'%s' object has no attribute '%s'\"\u001b[0m\u001b[0;34m\u001b[0m\u001b[0;34m\u001b[0m\u001b[0m\n\u001b[1;32m   1313\u001b[0m             % (self._obj.__class__.__name__, attr))\n",
      "\u001b[0;31mAttributeError\u001b[0m: 'MapAnnotationI' object has no attribute 'getProject'"
     ]
    },
    {
     "data": {
      "text/plain": [
       "<omero.gateway.MapAnnotationWrapper object at 0x7fb589447df0>"
      ]
     },
     "execution_count": 70,
     "metadata": {},
     "output_type": "execute_result"
    }
   ],
   "source": [
    "image.linkAnnotation(annotation)"
   ]
  },
  {
   "cell_type": "code",
   "execution_count": null,
   "metadata": {},
   "outputs": [],
   "source": []
  }
 ],
 "metadata": {
  "kernelspec": {
   "display_name": "ome",
   "language": "python",
   "name": "ome"
  },
  "language_info": {
   "codemirror_mode": {
    "name": "ipython",
    "version": 3
   },
   "file_extension": ".py",
   "mimetype": "text/x-python",
   "name": "python",
   "nbconvert_exporter": "python",
   "pygments_lexer": "ipython3",
   "version": "3.8.11"
  }
 },
 "nbformat": 4,
 "nbformat_minor": 4
}
